{
 "cells": [
  {
   "cell_type": "code",
   "execution_count": 45,
   "metadata": {
    "collapsed": false
   },
   "outputs": [
    {
     "name": "stdout",
     "output_type": "stream",
     "text": [
      "The autoreload extension is already loaded. To reload it, use:\n",
      "  %reload_ext autoreload\n"
     ]
    }
   ],
   "source": [
    "%load_ext autoreload\n",
    "%autoreload 2\n",
    "%matplotlib inline\n",
    "\n",
    "import chess\n",
    "import time\n",
    "from IPython import display\n",
    "from word_trainer import record_audio\n",
    "import struct\n",
    "import scipy\n",
    "import matplotlib.pyplot as plt\n",
    "import soundfile as sf\n"
   ]
  },
  {
   "cell_type": "code",
   "execution_count": 2,
   "metadata": {
    "collapsed": true
   },
   "outputs": [],
   "source": [
    "sample_game = ['e4', 'e5', 'Nf3', 'Nf6', 'Nc3', 'Nc6']"
   ]
  },
  {
   "cell_type": "code",
   "execution_count": 3,
   "metadata": {
    "collapsed": true
   },
   "outputs": [],
   "source": [
    "def get_next_move():\n",
    "    return sample_game.pop(0)"
   ]
  },
  {
   "cell_type": "code",
   "execution_count": 4,
   "metadata": {
    "collapsed": false
   },
   "outputs": [],
   "source": [
    "def move_builder(piece, source_row, source_col, action, dest_row, dest_col):\n",
    "    \n",
    "    action_string = ''\n",
    "    if action == 'kingside castle':\n",
    "        return 'O-O'\n",
    "    elif action == 'queenside castle':\n",
    "        return 'O-O-O'\n",
    "    elif action == 'takes':\n",
    "        action_string = 'x'\n",
    "    \n",
    "    piece_string = ''\n",
    "    if piece == 'knight':\n",
    "        piece_string = 'N'\n",
    "    elif piece == 'bishop':\n",
    "        piece_string = 'B'\n",
    "    elif piece == 'king':\n",
    "        piece_string = 'K'\n",
    "    elif piece == 'queen':\n",
    "        piece_string = 'Q'\n",
    "    elif piece == 'rook':\n",
    "        piece_string = 'R'\n",
    "        \n",
    "    return piece_string + source_row + source_col + action_string + dest_row + dest_col     "
   ]
  },
  {
   "cell_type": "code",
   "execution_count": 5,
   "metadata": {
    "collapsed": false
   },
   "outputs": [
    {
     "data": {
      "text/plain": [
       "'Be3xd4'"
      ]
     },
     "execution_count": 5,
     "metadata": {},
     "output_type": "execute_result"
    }
   ],
   "source": [
    "move_builder('bishop', 'e', '3', 'takes', 'd', '4')"
   ]
  },
  {
   "cell_type": "code",
   "execution_count": 6,
   "metadata": {
    "collapsed": false
   },
   "outputs": [
    {
     "data": {
      "image/svg+xml": [
       "<svg xmlns=\"http://www.w3.org/2000/svg\" version=\"1.1\" xmlns:xlink=\"http://www.w3.org/1999/xlink\" width=\"400\" height=\"400\"><style>.square.light {\n",
       "  fill: #ffce9e;\n",
       "}\n",
       ".square.dark {\n",
       "  fill: #d18b47;\n",
       "}\n",
       "\n",
       ".square.dark.lastmove {\n",
       "  fill: #aaa23b;\n",
       "}\n",
       ".square.light.lastmove {\n",
       "  fill: #cdd16a;\n",
       "}\n",
       "\n",
       ".check {\n",
       "  fill: url(#check_gradient);\n",
       "}\n",
       "</style><defs><g id=\"white-bishop\" class=\"white bishop\" fill=\"none\" fill-rule=\"evenodd\" stroke=\"#000\" stroke-width=\"1.5\" stroke-linecap=\"round\" stroke-linejoin=\"round\"><g fill=\"#fff\" stroke-linecap=\"butt\"><path d=\"M9 36c3.39-.97 10.11.43 13.5-2 3.39 2.43 10.11 1.03 13.5 2 0 0 1.65.54 3 2-.68.97-1.65.99-3 .5-3.39-.97-10.11.46-13.5-1-3.39 1.46-10.11.03-13.5 1-1.354.49-2.323.47-3-.5 1.354-1.94 3-2 3-2zM15 32c2.5 2.5 12.5 2.5 15 0 .5-1.5 0-2 0-2 0-2.5-2.5-4-2.5-4 5.5-1.5 6-11.5-5-15.5-11 4-10.5 14-5 15.5 0 0-2.5 1.5-2.5 4 0 0-.5.5 0 2zM25 8a2.5 2.5 0 1 1-5 0 2.5 2.5 0 1 1 5 0z\"/></g><path d=\"M17.5 26h10M15 30h15m-7.5-14.5v5M20 18h5\" stroke-linejoin=\"miter\"/></g><g id=\"white-king\" class=\"white king\" fill=\"none\" fill-rule=\"evenodd\" stroke=\"#000\" stroke-width=\"1.5\" stroke-linecap=\"round\" stroke-linejoin=\"round\"><path d=\"M22.5 11.63V6M20 8h5\" stroke-linejoin=\"miter\"/><path d=\"M22.5 25s4.5-7.5 3-10.5c0 0-1-2.5-3-2.5s-3 2.5-3 2.5c-1.5 3 3 10.5 3 10.5\" fill=\"#fff\" stroke-linecap=\"butt\" stroke-linejoin=\"miter\"/><path d=\"M11.5 37c5.5 3.5 15.5 3.5 21 0v-7s9-4.5 6-10.5c-4-6.5-13.5-3.5-16 4V27v-3.5c-3.5-7.5-13-10.5-16-4-3 6 5 10 5 10V37z\" fill=\"#fff\"/><path d=\"M11.5 30c5.5-3 15.5-3 21 0m-21 3.5c5.5-3 15.5-3 21 0m-21 3.5c5.5-3 15.5-3 21 0\"/></g><g id=\"white-knight\" class=\"white knight\" fill=\"none\" fill-rule=\"evenodd\" stroke=\"#000\" stroke-width=\"1.5\" stroke-linecap=\"round\" stroke-linejoin=\"round\"><path d=\"M22 10c10.5 1 16.5 8 16 29H15c0-9 10-6.5 8-21M24 18c.38 2.91-5.55 7.37-8 9-3 2-2.82 4.34-5 4-1.042-.94 1.41-3.04 0-3-1 0 .19 1.23-1 2-1 0-4.003 1-4-4 0-2 6-12 6-12s1.89-1.9 2-3.5c-.73-.994-.5-2-.5-3 1-1 3 2.5 3 2.5h2s.78-1.992 2.5-3c1 0 1 3 1 3\" fill=\"#fff\"/><path d=\"M9.5 25.5a.5.5 0 1 1-1 0 .5.5 0 1 1 1 0zM14.933 15.75a.5 1.5 30 1 1-.866-.5.5 1.5 30 1 1 .866.5z\" fill=\"#000\"/></g><g id=\"white-queen\" class=\"white queen\" fill=\"#fff\" fill-rule=\"evenodd\" stroke=\"#000\" stroke-width=\"1.5\" stroke-linecap=\"round\" stroke-linejoin=\"round\"><path d=\"M8 12a2 2 0 1 1-4 0 2 2 0 1 1 4 0zM24.5 7.5a2 2 0 1 1-4 0 2 2 0 1 1 4 0zM41 12a2 2 0 1 1-4 0 2 2 0 1 1 4 0zM16 8.5a2 2 0 1 1-4 0 2 2 0 1 1 4 0zM33 9a2 2 0 1 1-4 0 2 2 0 1 1 4 0z\"/><path d=\"M9 26c8.5-1.5 21-1.5 27 0l2-12-7 11V11l-5.5 13.5-3-15-3 15-5.5-14V25L7 14l2 12zM9 26c0 2 1.5 2 2.5 4 1 1.5 1 1 .5 3.5-1.5 1-1.5 2.5-1.5 2.5-1.5 1.5.5 2.5.5 2.5 6.5 1 16.5 1 23 0 0 0 1.5-1 0-2.5 0 0 .5-1.5-1-2.5-.5-2.5-.5-2 .5-3.5 1-2 2.5-2 2.5-4-8.5-1.5-18.5-1.5-27 0z\" stroke-linecap=\"butt\"/><path d=\"M11.5 30c3.5-1 18.5-1 22 0M12 33.5c6-1 15-1 21 0\" fill=\"none\"/></g><g id=\"white-pawn\" class=\"white pawn\"><path d=\"M22 9c-2.21 0-4 1.79-4 4 0 .89.29 1.71.78 2.38-1.95 1.12-3.28 3.21-3.28 5.62 0 2.03.94 3.84 2.41 5.03-3 1.06-7.41 5.55-7.41 13.47h23c0-7.92-4.41-12.41-7.41-13.47 1.47-1.19 2.41-3 2.41-5.03 0-2.41-1.33-4.5-3.28-5.62.49-.67.78-1.49.78-2.38 0-2.21-1.79-4-4-4z\" fill=\"#fff\" stroke=\"#000\" stroke-width=\"1.5\" stroke-linecap=\"round\"/></g><g id=\"white-rook\" class=\"white rook\" fill=\"#fff\" fill-rule=\"evenodd\" stroke=\"#000\" stroke-width=\"1.5\" stroke-linecap=\"round\" stroke-linejoin=\"round\"><path d=\"M9 39h27v-3H9v3zM12 36v-4h21v4H12zM11 14V9h4v2h5V9h5v2h5V9h4v5\" stroke-linecap=\"butt\"/><path d=\"M34 14l-3 3H14l-3-3\"/><path d=\"M31 17v12.5H14V17\" stroke-linecap=\"butt\" stroke-linejoin=\"miter\"/><path d=\"M31 29.5l1.5 2.5h-20l1.5-2.5\"/><path d=\"M11 14h23\" fill=\"none\" stroke-linejoin=\"miter\"/></g><g id=\"black-bishop\" class=\"black bishop\" fill=\"none\" fill-rule=\"evenodd\" stroke=\"#000\" stroke-width=\"1.5\" stroke-linecap=\"round\" stroke-linejoin=\"round\"><path d=\"M9 36c3.39-.97 10.11.43 13.5-2 3.39 2.43 10.11 1.03 13.5 2 0 0 1.65.54 3 2-.68.97-1.65.99-3 .5-3.39-.97-10.11.46-13.5-1-3.39 1.46-10.11.03-13.5 1-1.354.49-2.323.47-3-.5 1.354-1.94 3-2 3-2zm6-4c2.5 2.5 12.5 2.5 15 0 .5-1.5 0-2 0-2 0-2.5-2.5-4-2.5-4 5.5-1.5 6-11.5-5-15.5-11 4-10.5 14-5 15.5 0 0-2.5 1.5-2.5 4 0 0-.5.5 0 2zM25 8a2.5 2.5 0 1 1-5 0 2.5 2.5 0 1 1 5 0z\" fill=\"#000\" stroke-linecap=\"butt\"/><path d=\"M17.5 26h10M15 30h15m-7.5-14.5v5M20 18h5\" stroke=\"#fff\" stroke-linejoin=\"miter\"/></g><g id=\"black-king\" class=\"black king\" fill=\"none\" fill-rule=\"evenodd\" stroke=\"#000\" stroke-width=\"1.5\" stroke-linecap=\"round\" stroke-linejoin=\"round\"><path d=\"M22.5 11.63V6\" stroke-linejoin=\"miter\"/><path d=\"M22.5 25s4.5-7.5 3-10.5c0 0-1-2.5-3-2.5s-3 2.5-3 2.5c-1.5 3 3 10.5 3 10.5\" fill=\"#000\" stroke-linecap=\"butt\" stroke-linejoin=\"miter\"/><path d=\"M11.5 37c5.5 3.5 15.5 3.5 21 0v-7s9-4.5 6-10.5c-4-6.5-13.5-3.5-16 4V27v-3.5c-3.5-7.5-13-10.5-16-4-3 6 5 10 5 10V37z\" fill=\"#000\"/><path d=\"M20 8h5\" stroke-linejoin=\"miter\"/><path d=\"M32 29.5s8.5-4 6.03-9.65C34.15 14 25 18 22.5 24.5l.01 2.1-.01-2.1C20 18 9.906 14 6.997 19.85c-2.497 5.65 4.853 9 4.853 9M11.5 30c5.5-3 15.5-3 21 0m-21 3.5c5.5-3 15.5-3 21 0m-21 3.5c5.5-3 15.5-3 21 0\" stroke=\"#fff\"/></g><g id=\"black-knight\" class=\"black knight\" fill=\"none\" fill-rule=\"evenodd\" stroke=\"#000\" stroke-width=\"1.5\" stroke-linecap=\"round\" stroke-linejoin=\"round\"><path d=\"M22 10c10.5 1 16.5 8 16 29H15c0-9 10-6.5 8-21M24 18c.38 2.91-5.55 7.37-8 9-3 2-2.82 4.34-5 4-1.042-.94 1.41-3.04 0-3-1 0 .19 1.23-1 2-1 0-4.003 1-4-4 0-2 6-12 6-12s1.89-1.9 2-3.5c-.73-.994-.5-2-.5-3 1-1 3 2.5 3 2.5h2s.78-1.992 2.5-3c1 0 1 3 1 3\" fill=\"#000\"/><path d=\"M9.5 25.5a.5.5 0 1 1-1 0 .5.5 0 1 1 1 0zM14.933 15.75a.5 1.5 30 1 1-.866-.5.5 1.5 30 1 1 .866.5z\" fill=\"#fff\" stroke=\"#fff\"/><path d=\"M24.55 10.4l-.45 1.45.5.15c3.15 1 5.65 2.49 7.9 6.75S35.75 29.06 35.25 39l-.05.5h2.25l.05-.5c.5-10.06-.88-16.85-3.25-21.34-2.37-4.49-5.79-6.64-9.19-7.16l-.51-.1z\" fill=\"#fff\" stroke=\"none\"/></g><g id=\"black-queen\" class=\"black-queen\" fill=\"0\" fill-rule=\"evenodd\" stroke=\"#000\" stroke-width=\"1.5\" stroke-linecap=\"round\" stroke-linejoin=\"round\"><g fill=\"#000\" stroke=\"none\"><circle cx=\"6\" cy=\"12\" r=\"2.75\"/><circle cx=\"14\" cy=\"9\" r=\"2.75\"/><circle cx=\"22.5\" cy=\"8\" r=\"2.75\"/><circle cx=\"31\" cy=\"9\" r=\"2.75\"/><circle cx=\"39\" cy=\"12\" r=\"2.75\"/></g><path d=\"M9 26c8.5-1.5 21-1.5 27 0l2.5-12.5L31 25l-.3-14.1-5.2 13.6-3-14.5-3 14.5-5.2-13.6L14 25 6.5 13.5 9 26zM9 26c0 2 1.5 2 2.5 4 1 1.5 1 1 .5 3.5-1.5 1-1.5 2.5-1.5 2.5-1.5 1.5.5 2.5.5 2.5 6.5 1 16.5 1 23 0 0 0 1.5-1 0-2.5 0 0 .5-1.5-1-2.5-.5-2.5-.5-2 .5-3.5 1-2 2.5-2 2.5-4-8.5-1.5-18.5-1.5-27 0z\" stroke-linecap=\"butt\"/><path d=\"M11 38.5a35 35 1 0 0 23 0\" fill=\"none\" stroke-linecap=\"butt\"/><path d=\"M11 29a35 35 1 0 1 23 0M12.5 31.5h20M11.5 34.5a35 35 1 0 0 22 0M10.5 37.5a35 35 1 0 0 24 0\" fill=\"none\" stroke=\"#fff\"/></g><g id=\"black-pawn\" class=\"black pawn\"><path d=\"M22 9c-2.21 0-4 1.79-4 4 0 .89.29 1.71.78 2.38-1.95 1.12-3.28 3.21-3.28 5.62 0 2.03.94 3.84 2.41 5.03-3 1.06-7.41 5.55-7.41 13.47h23c0-7.92-4.41-12.41-7.41-13.47 1.47-1.19 2.41-3 2.41-5.03 0-2.41-1.33-4.5-3.28-5.62.49-.67.78-1.49.78-2.38 0-2.21-1.79-4-4-4z\" stroke=\"#000\" stroke-width=\"1.5\" stroke-linecap=\"round\"/></g><g id=\"black-rook\" class=\"black rook\" fill=\"0\" fill-rule=\"evenodd\" stroke=\"#000\" stroke-width=\"1.5\" stroke-linecap=\"round\" stroke-linejoin=\"round\"><path d=\"M9 39h27v-3H9v3zM12.5 32l1.5-2.5h17l1.5 2.5h-20zM12 36v-4h21v4H12z\" stroke-linecap=\"butt\"/><path d=\"M14 29.5v-13h17v13H14z\" stroke-linecap=\"butt\" stroke-linejoin=\"miter\"/><path d=\"M14 16.5L11 14h23l-3 2.5H14zM11 14V9h4v2h5V9h5v2h5V9h4v5H11z\" stroke-linecap=\"butt\"/><path d=\"M12 35.5h21M13 31.5h19M14 29.5h17M14 16.5h17M11 14h23\" fill=\"none\" stroke=\"#fff\" stroke-width=\"1\" stroke-linejoin=\"miter\"/></g></defs><rect x=\"20.000000\" y=\"335.000000\" class=\"square dark a1\" width=\"45.000000\" height=\"45.000000\" style=\"stroke: none;\" /><use xlink:href=\"#white-rook\" transform=\"translate(20.000000, 335.000000) scale(1.000000 1.000000)\" /><rect x=\"65.000000\" y=\"335.000000\" class=\"square light b1\" width=\"45.000000\" height=\"45.000000\" style=\"stroke: none;\" /><rect x=\"110.000000\" y=\"335.000000\" class=\"square dark c1\" width=\"45.000000\" height=\"45.000000\" style=\"stroke: none;\" /><use xlink:href=\"#white-bishop\" transform=\"translate(110.000000, 335.000000) scale(1.000000 1.000000)\" /><rect x=\"155.000000\" y=\"335.000000\" class=\"square light d1\" width=\"45.000000\" height=\"45.000000\" style=\"stroke: none;\" /><use xlink:href=\"#white-queen\" transform=\"translate(155.000000, 335.000000) scale(1.000000 1.000000)\" /><rect x=\"200.000000\" y=\"335.000000\" class=\"square dark e1\" width=\"45.000000\" height=\"45.000000\" style=\"stroke: none;\" /><use xlink:href=\"#white-king\" transform=\"translate(200.000000, 335.000000) scale(1.000000 1.000000)\" /><rect x=\"245.000000\" y=\"335.000000\" class=\"square light f1\" width=\"45.000000\" height=\"45.000000\" style=\"stroke: none;\" /><use xlink:href=\"#white-bishop\" transform=\"translate(245.000000, 335.000000) scale(1.000000 1.000000)\" /><rect x=\"290.000000\" y=\"335.000000\" class=\"square dark g1\" width=\"45.000000\" height=\"45.000000\" style=\"stroke: none;\" /><rect x=\"335.000000\" y=\"335.000000\" class=\"square light h1\" width=\"45.000000\" height=\"45.000000\" style=\"stroke: none;\" /><use xlink:href=\"#white-rook\" transform=\"translate(335.000000, 335.000000) scale(1.000000 1.000000)\" /><rect x=\"20.000000\" y=\"290.000000\" class=\"square light a2\" width=\"45.000000\" height=\"45.000000\" style=\"stroke: none;\" /><use xlink:href=\"#white-pawn\" transform=\"translate(20.000000, 290.000000) scale(1.000000 1.000000)\" /><rect x=\"65.000000\" y=\"290.000000\" class=\"square dark b2\" width=\"45.000000\" height=\"45.000000\" style=\"stroke: none;\" /><use xlink:href=\"#white-pawn\" transform=\"translate(65.000000, 290.000000) scale(1.000000 1.000000)\" /><rect x=\"110.000000\" y=\"290.000000\" class=\"square light c2\" width=\"45.000000\" height=\"45.000000\" style=\"stroke: none;\" /><use xlink:href=\"#white-pawn\" transform=\"translate(110.000000, 290.000000) scale(1.000000 1.000000)\" /><rect x=\"155.000000\" y=\"290.000000\" class=\"square dark d2\" width=\"45.000000\" height=\"45.000000\" style=\"stroke: none;\" /><use xlink:href=\"#white-pawn\" transform=\"translate(155.000000, 290.000000) scale(1.000000 1.000000)\" /><rect x=\"200.000000\" y=\"290.000000\" class=\"square light e2\" width=\"45.000000\" height=\"45.000000\" style=\"stroke: none;\" /><rect x=\"245.000000\" y=\"290.000000\" class=\"square dark f2\" width=\"45.000000\" height=\"45.000000\" style=\"stroke: none;\" /><use xlink:href=\"#white-pawn\" transform=\"translate(245.000000, 290.000000) scale(1.000000 1.000000)\" /><rect x=\"290.000000\" y=\"290.000000\" class=\"square light g2\" width=\"45.000000\" height=\"45.000000\" style=\"stroke: none;\" /><use xlink:href=\"#white-pawn\" transform=\"translate(290.000000, 290.000000) scale(1.000000 1.000000)\" /><rect x=\"335.000000\" y=\"290.000000\" class=\"square dark h2\" width=\"45.000000\" height=\"45.000000\" style=\"stroke: none;\" /><use xlink:href=\"#white-pawn\" transform=\"translate(335.000000, 290.000000) scale(1.000000 1.000000)\" /><rect x=\"20.000000\" y=\"245.000000\" class=\"square dark a3\" width=\"45.000000\" height=\"45.000000\" style=\"stroke: none;\" /><rect x=\"65.000000\" y=\"245.000000\" class=\"square light b3\" width=\"45.000000\" height=\"45.000000\" style=\"stroke: none;\" /><rect x=\"110.000000\" y=\"245.000000\" class=\"square dark c3\" width=\"45.000000\" height=\"45.000000\" style=\"stroke: none;\" /><use xlink:href=\"#white-knight\" transform=\"translate(110.000000, 245.000000) scale(1.000000 1.000000)\" /><rect x=\"155.000000\" y=\"245.000000\" class=\"square light d3\" width=\"45.000000\" height=\"45.000000\" style=\"stroke: none;\" /><rect x=\"200.000000\" y=\"245.000000\" class=\"square dark e3\" width=\"45.000000\" height=\"45.000000\" style=\"stroke: none;\" /><rect x=\"245.000000\" y=\"245.000000\" class=\"square light f3\" width=\"45.000000\" height=\"45.000000\" style=\"stroke: none;\" /><use xlink:href=\"#white-knight\" transform=\"translate(245.000000, 245.000000) scale(1.000000 1.000000)\" /><rect x=\"290.000000\" y=\"245.000000\" class=\"square dark g3\" width=\"45.000000\" height=\"45.000000\" style=\"stroke: none;\" /><rect x=\"335.000000\" y=\"245.000000\" class=\"square light h3\" width=\"45.000000\" height=\"45.000000\" style=\"stroke: none;\" /><rect x=\"20.000000\" y=\"200.000000\" class=\"square light a4\" width=\"45.000000\" height=\"45.000000\" style=\"stroke: none;\" /><rect x=\"65.000000\" y=\"200.000000\" class=\"square dark b4\" width=\"45.000000\" height=\"45.000000\" style=\"stroke: none;\" /><rect x=\"110.000000\" y=\"200.000000\" class=\"square light c4\" width=\"45.000000\" height=\"45.000000\" style=\"stroke: none;\" /><rect x=\"155.000000\" y=\"200.000000\" class=\"square dark d4\" width=\"45.000000\" height=\"45.000000\" style=\"stroke: none;\" /><rect x=\"200.000000\" y=\"200.000000\" class=\"square light e4\" width=\"45.000000\" height=\"45.000000\" style=\"stroke: none;\" /><use xlink:href=\"#white-pawn\" transform=\"translate(200.000000, 200.000000) scale(1.000000 1.000000)\" /><rect x=\"245.000000\" y=\"200.000000\" class=\"square dark f4\" width=\"45.000000\" height=\"45.000000\" style=\"stroke: none;\" /><rect x=\"290.000000\" y=\"200.000000\" class=\"square light g4\" width=\"45.000000\" height=\"45.000000\" style=\"stroke: none;\" /><rect x=\"335.000000\" y=\"200.000000\" class=\"square dark h4\" width=\"45.000000\" height=\"45.000000\" style=\"stroke: none;\" /><rect x=\"20.000000\" y=\"155.000000\" class=\"square dark a5\" width=\"45.000000\" height=\"45.000000\" style=\"stroke: none;\" /><rect x=\"65.000000\" y=\"155.000000\" class=\"square light b5\" width=\"45.000000\" height=\"45.000000\" style=\"stroke: none;\" /><rect x=\"110.000000\" y=\"155.000000\" class=\"square dark c5\" width=\"45.000000\" height=\"45.000000\" style=\"stroke: none;\" /><rect x=\"155.000000\" y=\"155.000000\" class=\"square light d5\" width=\"45.000000\" height=\"45.000000\" style=\"stroke: none;\" /><rect x=\"200.000000\" y=\"155.000000\" class=\"square dark e5\" width=\"45.000000\" height=\"45.000000\" style=\"stroke: none;\" /><use xlink:href=\"#black-pawn\" transform=\"translate(200.000000, 155.000000) scale(1.000000 1.000000)\" /><rect x=\"245.000000\" y=\"155.000000\" class=\"square light f5\" width=\"45.000000\" height=\"45.000000\" style=\"stroke: none;\" /><rect x=\"290.000000\" y=\"155.000000\" class=\"square dark g5\" width=\"45.000000\" height=\"45.000000\" style=\"stroke: none;\" /><rect x=\"335.000000\" y=\"155.000000\" class=\"square light h5\" width=\"45.000000\" height=\"45.000000\" style=\"stroke: none;\" /><rect x=\"20.000000\" y=\"110.000000\" class=\"square light a6\" width=\"45.000000\" height=\"45.000000\" style=\"stroke: none;\" /><rect x=\"65.000000\" y=\"110.000000\" class=\"square dark b6\" width=\"45.000000\" height=\"45.000000\" style=\"stroke: none;\" /><rect x=\"110.000000\" y=\"110.000000\" class=\"square light c6 lastmove\" width=\"45.000000\" height=\"45.000000\" style=\"stroke: none;\" /><use xlink:href=\"#black-knight\" transform=\"translate(110.000000, 110.000000) scale(1.000000 1.000000)\" /><rect x=\"155.000000\" y=\"110.000000\" class=\"square dark d6\" width=\"45.000000\" height=\"45.000000\" style=\"stroke: none;\" /><rect x=\"200.000000\" y=\"110.000000\" class=\"square light e6\" width=\"45.000000\" height=\"45.000000\" style=\"stroke: none;\" /><rect x=\"245.000000\" y=\"110.000000\" class=\"square dark f6\" width=\"45.000000\" height=\"45.000000\" style=\"stroke: none;\" /><use xlink:href=\"#black-knight\" transform=\"translate(245.000000, 110.000000) scale(1.000000 1.000000)\" /><rect x=\"290.000000\" y=\"110.000000\" class=\"square light g6\" width=\"45.000000\" height=\"45.000000\" style=\"stroke: none;\" /><rect x=\"335.000000\" y=\"110.000000\" class=\"square dark h6\" width=\"45.000000\" height=\"45.000000\" style=\"stroke: none;\" /><rect x=\"20.000000\" y=\"65.000000\" class=\"square dark a7\" width=\"45.000000\" height=\"45.000000\" style=\"stroke: none;\" /><use xlink:href=\"#black-pawn\" transform=\"translate(20.000000, 65.000000) scale(1.000000 1.000000)\" /><rect x=\"65.000000\" y=\"65.000000\" class=\"square light b7\" width=\"45.000000\" height=\"45.000000\" style=\"stroke: none;\" /><use xlink:href=\"#black-pawn\" transform=\"translate(65.000000, 65.000000) scale(1.000000 1.000000)\" /><rect x=\"110.000000\" y=\"65.000000\" class=\"square dark c7\" width=\"45.000000\" height=\"45.000000\" style=\"stroke: none;\" /><use xlink:href=\"#black-pawn\" transform=\"translate(110.000000, 65.000000) scale(1.000000 1.000000)\" /><rect x=\"155.000000\" y=\"65.000000\" class=\"square light d7\" width=\"45.000000\" height=\"45.000000\" style=\"stroke: none;\" /><use xlink:href=\"#black-pawn\" transform=\"translate(155.000000, 65.000000) scale(1.000000 1.000000)\" /><rect x=\"200.000000\" y=\"65.000000\" class=\"square dark e7\" width=\"45.000000\" height=\"45.000000\" style=\"stroke: none;\" /><rect x=\"245.000000\" y=\"65.000000\" class=\"square light f7\" width=\"45.000000\" height=\"45.000000\" style=\"stroke: none;\" /><use xlink:href=\"#black-pawn\" transform=\"translate(245.000000, 65.000000) scale(1.000000 1.000000)\" /><rect x=\"290.000000\" y=\"65.000000\" class=\"square dark g7\" width=\"45.000000\" height=\"45.000000\" style=\"stroke: none;\" /><use xlink:href=\"#black-pawn\" transform=\"translate(290.000000, 65.000000) scale(1.000000 1.000000)\" /><rect x=\"335.000000\" y=\"65.000000\" class=\"square light h7\" width=\"45.000000\" height=\"45.000000\" style=\"stroke: none;\" /><use xlink:href=\"#black-pawn\" transform=\"translate(335.000000, 65.000000) scale(1.000000 1.000000)\" /><rect x=\"20.000000\" y=\"20.000000\" class=\"square light a8\" width=\"45.000000\" height=\"45.000000\" style=\"stroke: none;\" /><use xlink:href=\"#black-rook\" transform=\"translate(20.000000, 20.000000) scale(1.000000 1.000000)\" /><rect x=\"65.000000\" y=\"20.000000\" class=\"square dark b8 lastmove\" width=\"45.000000\" height=\"45.000000\" style=\"stroke: none;\" /><rect x=\"110.000000\" y=\"20.000000\" class=\"square light c8\" width=\"45.000000\" height=\"45.000000\" style=\"stroke: none;\" /><use xlink:href=\"#black-bishop\" transform=\"translate(110.000000, 20.000000) scale(1.000000 1.000000)\" /><rect x=\"155.000000\" y=\"20.000000\" class=\"square dark d8\" width=\"45.000000\" height=\"45.000000\" style=\"stroke: none;\" /><use xlink:href=\"#black-queen\" transform=\"translate(155.000000, 20.000000) scale(1.000000 1.000000)\" /><rect x=\"200.000000\" y=\"20.000000\" class=\"square light e8\" width=\"45.000000\" height=\"45.000000\" style=\"stroke: none;\" /><use xlink:href=\"#black-king\" transform=\"translate(200.000000, 20.000000) scale(1.000000 1.000000)\" /><rect x=\"245.000000\" y=\"20.000000\" class=\"square dark f8\" width=\"45.000000\" height=\"45.000000\" style=\"stroke: none;\" /><use xlink:href=\"#black-bishop\" transform=\"translate(245.000000, 20.000000) scale(1.000000 1.000000)\" /><rect x=\"290.000000\" y=\"20.000000\" class=\"square light g8\" width=\"45.000000\" height=\"45.000000\" style=\"stroke: none;\" /><rect x=\"335.000000\" y=\"20.000000\" class=\"square dark h8\" width=\"45.000000\" height=\"45.000000\" style=\"stroke: none;\" /><use xlink:href=\"#black-rook\" transform=\"translate(335.000000, 20.000000) scale(1.000000 1.000000)\" /><text x=\"42\" y=\"10\" text-anchor=\"middle\" alignment-baseline=\"middle\" font-size=\"14\">a</text><text x=\"42\" y=\"390\" text-anchor=\"middle\" alignment-baseline=\"middle\" font-size=\"14\">a</text><text x=\"87\" y=\"10\" text-anchor=\"middle\" alignment-baseline=\"middle\" font-size=\"14\">b</text><text x=\"87\" y=\"390\" text-anchor=\"middle\" alignment-baseline=\"middle\" font-size=\"14\">b</text><text x=\"132\" y=\"10\" text-anchor=\"middle\" alignment-baseline=\"middle\" font-size=\"14\">c</text><text x=\"132\" y=\"390\" text-anchor=\"middle\" alignment-baseline=\"middle\" font-size=\"14\">c</text><text x=\"177\" y=\"10\" text-anchor=\"middle\" alignment-baseline=\"middle\" font-size=\"14\">d</text><text x=\"177\" y=\"390\" text-anchor=\"middle\" alignment-baseline=\"middle\" font-size=\"14\">d</text><text x=\"222\" y=\"10\" text-anchor=\"middle\" alignment-baseline=\"middle\" font-size=\"14\">e</text><text x=\"222\" y=\"390\" text-anchor=\"middle\" alignment-baseline=\"middle\" font-size=\"14\">e</text><text x=\"267\" y=\"10\" text-anchor=\"middle\" alignment-baseline=\"middle\" font-size=\"14\">f</text><text x=\"267\" y=\"390\" text-anchor=\"middle\" alignment-baseline=\"middle\" font-size=\"14\">f</text><text x=\"312\" y=\"10\" text-anchor=\"middle\" alignment-baseline=\"middle\" font-size=\"14\">g</text><text x=\"312\" y=\"390\" text-anchor=\"middle\" alignment-baseline=\"middle\" font-size=\"14\">g</text><text x=\"357\" y=\"10\" text-anchor=\"middle\" alignment-baseline=\"middle\" font-size=\"14\">h</text><text x=\"357\" y=\"390\" text-anchor=\"middle\" alignment-baseline=\"middle\" font-size=\"14\">h</text><text x=\"10\" y=\"357\" text-anchor=\"middle\" alignment-baseline=\"middle\" font-size=\"14\">1</text><text x=\"390\" y=\"357\" text-anchor=\"middle\" alignment-baseline=\"middle\" font-size=\"14\">1</text><text x=\"10\" y=\"312\" text-anchor=\"middle\" alignment-baseline=\"middle\" font-size=\"14\">2</text><text x=\"390\" y=\"312\" text-anchor=\"middle\" alignment-baseline=\"middle\" font-size=\"14\">2</text><text x=\"10\" y=\"267\" text-anchor=\"middle\" alignment-baseline=\"middle\" font-size=\"14\">3</text><text x=\"390\" y=\"267\" text-anchor=\"middle\" alignment-baseline=\"middle\" font-size=\"14\">3</text><text x=\"10\" y=\"222\" text-anchor=\"middle\" alignment-baseline=\"middle\" font-size=\"14\">4</text><text x=\"390\" y=\"222\" text-anchor=\"middle\" alignment-baseline=\"middle\" font-size=\"14\">4</text><text x=\"10\" y=\"177\" text-anchor=\"middle\" alignment-baseline=\"middle\" font-size=\"14\">5</text><text x=\"390\" y=\"177\" text-anchor=\"middle\" alignment-baseline=\"middle\" font-size=\"14\">5</text><text x=\"10\" y=\"132\" text-anchor=\"middle\" alignment-baseline=\"middle\" font-size=\"14\">6</text><text x=\"390\" y=\"132\" text-anchor=\"middle\" alignment-baseline=\"middle\" font-size=\"14\">6</text><text x=\"10\" y=\"87\" text-anchor=\"middle\" alignment-baseline=\"middle\" font-size=\"14\">7</text><text x=\"390\" y=\"87\" text-anchor=\"middle\" alignment-baseline=\"middle\" font-size=\"14\">7</text><text x=\"10\" y=\"42\" text-anchor=\"middle\" alignment-baseline=\"middle\" font-size=\"14\">8</text><text x=\"390\" y=\"42\" text-anchor=\"middle\" alignment-baseline=\"middle\" font-size=\"14\">8</text></svg>"
      ],
      "text/plain": [
       "Board('r1bqkb1r/pppp1ppp/2n2n2/4p3/4P3/2N2N2/PPPP1PPP/R1BQKB1R w KQkq - 4 4')"
      ]
     },
     "metadata": {},
     "output_type": "display_data"
    },
    {
     "ename": "IndexError",
     "evalue": "pop from empty list",
     "output_type": "error",
     "traceback": [
      "\u001b[0;31m---------------------------------------------------------------------------\u001b[0m",
      "\u001b[0;31mIndexError\u001b[0m                                Traceback (most recent call last)",
      "\u001b[0;32m<ipython-input-6-3ac36a97da21>\u001b[0m in \u001b[0;36m<module>\u001b[0;34m()\u001b[0m\n\u001b[1;32m      2\u001b[0m \u001b[0;34m\u001b[0m\u001b[0m\n\u001b[1;32m      3\u001b[0m \u001b[0;32mwhile\u001b[0m \u001b[0;32mnot\u001b[0m \u001b[0mboard\u001b[0m\u001b[0;34m.\u001b[0m\u001b[0mis_game_over\u001b[0m\u001b[0;34m(\u001b[0m\u001b[0;34m)\u001b[0m\u001b[0;34m:\u001b[0m\u001b[0;34m\u001b[0m\u001b[0m\n\u001b[0;32m----> 4\u001b[0;31m     \u001b[0mmove\u001b[0m \u001b[0;34m=\u001b[0m \u001b[0mget_next_move\u001b[0m\u001b[0;34m(\u001b[0m\u001b[0;34m)\u001b[0m\u001b[0;34m\u001b[0m\u001b[0m\n\u001b[0m\u001b[1;32m      5\u001b[0m     \u001b[0mtime\u001b[0m\u001b[0;34m.\u001b[0m\u001b[0msleep\u001b[0m\u001b[0;34m(\u001b[0m\u001b[0;36m2\u001b[0m\u001b[0;34m)\u001b[0m\u001b[0;34m\u001b[0m\u001b[0m\n\u001b[1;32m      6\u001b[0m     \u001b[0;32mtry\u001b[0m\u001b[0;34m:\u001b[0m\u001b[0;34m\u001b[0m\u001b[0m\n",
      "\u001b[0;32m<ipython-input-3-a1755b9cb9ee>\u001b[0m in \u001b[0;36mget_next_move\u001b[0;34m()\u001b[0m\n\u001b[1;32m      1\u001b[0m \u001b[0;32mdef\u001b[0m \u001b[0mget_next_move\u001b[0m\u001b[0;34m(\u001b[0m\u001b[0;34m)\u001b[0m\u001b[0;34m:\u001b[0m\u001b[0;34m\u001b[0m\u001b[0m\n\u001b[0;32m----> 2\u001b[0;31m     \u001b[0;32mreturn\u001b[0m \u001b[0msample_game\u001b[0m\u001b[0;34m.\u001b[0m\u001b[0mpop\u001b[0m\u001b[0;34m(\u001b[0m\u001b[0;36m0\u001b[0m\u001b[0;34m)\u001b[0m\u001b[0;34m\u001b[0m\u001b[0m\n\u001b[0m",
      "\u001b[0;31mIndexError\u001b[0m: pop from empty list"
     ]
    }
   ],
   "source": [
    "board = chess.Board()\n",
    "\n",
    "while not board.is_game_over():\n",
    "    move = get_next_move()\n",
    "    time.sleep(2)\n",
    "    try:\n",
    "        board.push_san(move)\n",
    "    except:\n",
    "        pass\n",
    "    display.clear_output(wait=True)\n",
    "    display.display(board)"
   ]
  },
  {
   "cell_type": "code",
   "execution_count": 50,
   "metadata": {
    "collapsed": false
   },
   "outputs": [
    {
     "name": "stdout",
     "output_type": "stream",
     "text": [
      "* recording\n",
      "* done recording\n"
     ]
    }
   ],
   "source": [
    "sample = record_audio(n_sec=10, output='out.wav')"
   ]
  },
  {
   "cell_type": "code",
   "execution_count": 51,
   "metadata": {
    "collapsed": false
   },
   "outputs": [],
   "source": [
    "data, fs = sf.read('out.wav')"
   ]
  },
  {
   "cell_type": "code",
   "execution_count": 52,
   "metadata": {
    "collapsed": false
   },
   "outputs": [
    {
     "data": {
      "text/plain": [
       "[<matplotlib.lines.Line2D at 0x10f734a90>,\n",
       " <matplotlib.lines.Line2D at 0x10f734d50>]"
      ]
     },
     "execution_count": 52,
     "metadata": {},
     "output_type": "execute_result"
    },
    {
     "data": {
      "image/png": "[encoded data removed]",
      "text/plain": [
       "<matplotlib.figure.Figure at 0x10fb99090>"
      ]
     },
     "metadata": {},
     "output_type": "display_data"
    }
   ],
   "source": [
    "plt.plot(data)"
   ]
  },
  {
   "cell_type": "code",
   "execution_count": 54,
   "metadata": {
    "collapsed": true
   },
   "outputs": [],
   "source": [
    "training_list = ['king', 'queen', 'knight', 'bishop', 'rook', 'pawn', \n",
    "                 '1', '2', '3', '4', '5', '6', '7', '8',\n",
    "                'a', 'b', 'c', 'd', 'e', 'f', 'g', 'h',\n",
    "                'kingside', 'queenside', 'castle', 'to', 'takes']"
   ]
  },
  {
   "cell_type": "code",
   "execution_count": 60,
   "metadata": {
    "collapsed": false
   },
   "outputs": [
    {
     "name": "stdout",
     "output_type": "stream",
     "text": [
      "SAY: king\n",
      "* recording\n",
      "* done recording\n",
      "SAY: queen\n",
      "* recording\n",
      "* done recording\n",
      "SAY: knight\n",
      "* recording\n",
      "* done recording\n",
      "SAY: bishop\n",
      "* recording\n",
      "* done recording\n",
      "SAY: rook\n",
      "* recording\n",
      "* done recording\n",
      "SAY: pawn\n",
      "* recording\n",
      "* done recording\n",
      "SAY: 1\n",
      "* recording\n",
      "* done recording\n",
      "SAY: 2\n",
      "* recording\n",
      "* done recording\n",
      "SAY: 3\n",
      "* recording\n",
      "* done recording\n",
      "SAY: 4\n",
      "* recording\n",
      "* done recording\n",
      "SAY: 5\n",
      "* recording\n",
      "* done recording\n",
      "SAY: 6\n",
      "* recording\n",
      "* done recording\n",
      "SAY: 7\n",
      "* recording\n"
     ]
    },
    {
     "ename": "KeyboardInterrupt",
     "evalue": "",
     "output_type": "error",
     "traceback": [
      "\u001b[0;31m---------------------------------------------------------------------------\u001b[0m",
      "\u001b[0;31mKeyboardInterrupt\u001b[0m                         Traceback (most recent call last)",
      "\u001b[0;32m<ipython-input-60-7485b468b30c>\u001b[0m in \u001b[0;36m<module>\u001b[0;34m()\u001b[0m\n\u001b[1;32m      6\u001b[0m             \u001b[0mrec_time\u001b[0m \u001b[0;34m=\u001b[0m \u001b[0;36m1\u001b[0m\u001b[0;34m\u001b[0m\u001b[0m\n\u001b[1;32m      7\u001b[0m         \u001b[0;32mprint\u001b[0m\u001b[0;34m(\u001b[0m\u001b[0;34m'SAY: '\u001b[0m \u001b[0;34m+\u001b[0m \u001b[0mitem\u001b[0m\u001b[0;34m)\u001b[0m\u001b[0;34m\u001b[0m\u001b[0m\n\u001b[0;32m----> 8\u001b[0;31m         \u001b[0mrecord_audio\u001b[0m\u001b[0;34m(\u001b[0m\u001b[0mn_sec\u001b[0m\u001b[0;34m=\u001b[0m\u001b[0mrec_time\u001b[0m\u001b[0;34m,\u001b[0m \u001b[0moutput\u001b[0m\u001b[0;34m=\u001b[0m\u001b[0;34m'training/{}_{}.wav'\u001b[0m\u001b[0;34m.\u001b[0m\u001b[0mformat\u001b[0m\u001b[0;34m(\u001b[0m\u001b[0mitem\u001b[0m\u001b[0;34m,\u001b[0m \u001b[0mi\u001b[0m\u001b[0;34m+\u001b[0m\u001b[0;36m1\u001b[0m\u001b[0;34m)\u001b[0m\u001b[0;34m)\u001b[0m\u001b[0;34m\u001b[0m\u001b[0m\n\u001b[0m",
      "\u001b[0;32m/Users/rdhara/Desktop/Junior Fall/CS 182/wechess-ai/word_trainer.py\u001b[0m in \u001b[0;36mrecord_audio\u001b[0;34m(n_sec, output)\u001b[0m\n\u001b[1;32m     26\u001b[0m \u001b[0;34m\u001b[0m\u001b[0m\n\u001b[1;32m     27\u001b[0m     \u001b[0;32mfor\u001b[0m \u001b[0mi\u001b[0m \u001b[0;32min\u001b[0m \u001b[0mrange\u001b[0m\u001b[0;34m(\u001b[0m\u001b[0;36m0\u001b[0m\u001b[0;34m,\u001b[0m \u001b[0mint\u001b[0m\u001b[0;34m(\u001b[0m\u001b[0mRATE\u001b[0m \u001b[0;34m/\u001b[0m \u001b[0mCHUNK\u001b[0m \u001b[0;34m*\u001b[0m \u001b[0mn_sec\u001b[0m\u001b[0;34m)\u001b[0m\u001b[0;34m)\u001b[0m\u001b[0;34m:\u001b[0m\u001b[0;34m\u001b[0m\u001b[0m\n\u001b[0;32m---> 28\u001b[0;31m         \u001b[0mdata\u001b[0m \u001b[0;34m=\u001b[0m \u001b[0mstream\u001b[0m\u001b[0;34m.\u001b[0m\u001b[0mread\u001b[0m\u001b[0;34m(\u001b[0m\u001b[0mCHUNK\u001b[0m\u001b[0;34m)\u001b[0m\u001b[0;34m\u001b[0m\u001b[0m\n\u001b[0m\u001b[1;32m     29\u001b[0m         \u001b[0mframes\u001b[0m\u001b[0;34m.\u001b[0m\u001b[0mappend\u001b[0m\u001b[0;34m(\u001b[0m\u001b[0mdata\u001b[0m\u001b[0;34m)\u001b[0m\u001b[0;34m\u001b[0m\u001b[0m\n\u001b[1;32m     30\u001b[0m \u001b[0;34m\u001b[0m\u001b[0m\n",
      "\u001b[0;32m/Users/rdhara/anaconda/lib/python2.7/site-packages/pyaudio.pyc\u001b[0m in \u001b[0;36mread\u001b[0;34m(self, num_frames, exception_on_overflow)\u001b[0m\n\u001b[1;32m    606\u001b[0m                           paCanNotReadFromAnOutputOnlyStream)\n\u001b[1;32m    607\u001b[0m \u001b[0;34m\u001b[0m\u001b[0m\n\u001b[0;32m--> 608\u001b[0;31m         \u001b[0;32mreturn\u001b[0m \u001b[0mpa\u001b[0m\u001b[0;34m.\u001b[0m\u001b[0mread_stream\u001b[0m\u001b[0;34m(\u001b[0m\u001b[0mself\u001b[0m\u001b[0;34m.\u001b[0m\u001b[0m_stream\u001b[0m\u001b[0;34m,\u001b[0m \u001b[0mnum_frames\u001b[0m\u001b[0;34m,\u001b[0m \u001b[0mexception_on_overflow\u001b[0m\u001b[0;34m)\u001b[0m\u001b[0;34m\u001b[0m\u001b[0m\n\u001b[0m\u001b[1;32m    609\u001b[0m \u001b[0;34m\u001b[0m\u001b[0m\n\u001b[1;32m    610\u001b[0m     \u001b[0;32mdef\u001b[0m \u001b[0mget_read_available\u001b[0m\u001b[0;34m(\u001b[0m\u001b[0mself\u001b[0m\u001b[0;34m)\u001b[0m\u001b[0;34m:\u001b[0m\u001b[0;34m\u001b[0m\u001b[0m\n",
      "\u001b[0;31mKeyboardInterrupt\u001b[0m: "
     ]
    }
   ],
   "source": [
    "for i in range(25):\n",
    "    for item in training_list:\n",
    "        if len(item) > 2:\n",
    "            rec_time = 2\n",
    "        else:\n",
    "            rec_time = 1.5\n",
    "        print('SAY: ' + item)\n",
    "        record_audio(n_sec=rec_time, output='training/{}_{}.wav'.format(item, i+1))"
   ]
  },
  {
   "cell_type": "code",
   "execution_count": null,
   "metadata": {
    "collapsed": true
   },
   "outputs": [],
   "source": []
  },
  {
   "cell_type": "code",
   "execution_count": null,
   "metadata": {
    "collapsed": true
   },
   "outputs": [],
   "source": []
  },
  {
   "cell_type": "code",
   "execution_count": null,
   "metadata": {
    "collapsed": true
   },
   "outputs": [],
   "source": []
  }
 ],
 "metadata": {
  "kernelspec": {
   "display_name": "Python 2",
   "language": "python",
   "name": "python2"
  },
  "language_info": {
   "codemirror_mode": {
    "name": "ipython",
    "version": 2
   },
   "file_extension": ".py",
   "mimetype": "text/x-python",
   "name": "python",
   "nbconvert_exporter": "python",
   "pygments_lexer": "ipython2",
   "version": "2.7.12"
  }
 },
 "nbformat": 4,
 "nbformat_minor": 1
}
