{
 "cells": [
  {
   "cell_type": "markdown",
   "metadata": {},
   "source": [
    "# Wizard Chess Demonstration\n",
    "### Raghu Dhara, Chris Chen, Shangyan Li"
   ]
  },
  {
   "cell_type": "markdown",
   "metadata": {},
   "source": [
    "To start the game, simply run the two cells below!"
   ]
  },
  {
   "cell_type": "code",
   "execution_count": null,
   "metadata": {
    "collapsed": false
   },
   "outputs": [],
   "source": [
    "import chess\n",
    "import time\n",
    "\n",
    "from IPython import display\n",
    "from ai_helpers import *\n",
    "from phoneme_decoder import get_phonemes\n",
    "from word_trainer import *"
   ]
  },
  {
   "cell_type": "code",
   "execution_count": null,
   "metadata": {
    "collapsed": false
   },
   "outputs": [],
   "source": [
    "def get_next_move():\n",
    "    record_audio(n_sec=5, output='temp.wav')\n",
    "    phonemes = get_phonemes('temp.wav')\n",
    "    try:\n",
    "        sequence = viterbi_update(phonemes)\n",
    "        print(sequence)\n",
    "        return move_builder(sequence[0], sequence[1], sequence[2], sequence[3], sequence[4], sequence[5])\n",
    "    except:\n",
    "        get_next_move()\n",
    "\n",
    "board = chess.Board()\n",
    "\n",
    "while not board.is_game_over():\n",
    "    move = get_next_move()\n",
    "    time.sleep(2)\n",
    "    try:\n",
    "        board.push_san(move)\n",
    "    except:\n",
    "        print('TRY AGAIN:')\n",
    "        pass\n",
    "    display.clear_output(wait=True)\n",
    "    display.display(board)"
   ]
  }
 ],
 "metadata": {
  "kernelspec": {
   "display_name": "Python 2",
   "language": "python",
   "name": "python2"
  },
  "language_info": {
   "codemirror_mode": {
    "name": "ipython",
    "version": 2
   },
   "file_extension": ".py",
   "mimetype": "text/x-python",
   "name": "python",
   "nbconvert_exporter": "python",
   "pygments_lexer": "ipython2",
   "version": "2.7.12"
  }
 },
 "nbformat": 4,
 "nbformat_minor": 1
}
