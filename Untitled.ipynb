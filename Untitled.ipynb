{
 "cells": [
  {
   "cell_type": "code",
   "execution_count": 2,
   "metadata": {
    "collapsed": false
   },
   "outputs": [
    {
     "data": {
      "text/plain": [
       "'/Users/apple/anaconda2/lib/python2.7/site-packages/pocketsphinx/model'"
      ]
     },
     "execution_count": 2,
     "metadata": {},
     "output_type": "execute_result"
    }
   ],
   "source": [
    "%load_ext autoreload\n",
    "\n",
    "from os import environ, path\n",
    "\n",
    "from pocketsphinx.pocketsphinx import *\n",
    "from sphinxbase.sphinxbase import *\n",
    "\n",
    "from pocketsphinx import DefaultConfig, Decoder, get_model_path, get_data_path\n",
    "\n",
    "MODELDIR = get_model_path()\n",
    "DATADIR = get_data_path()\n",
    "\n",
    "MODELDIR"
   ]
  },
  {
   "cell_type": "code",
   "execution_count": 4,
   "metadata": {
    "collapsed": false
   },
   "outputs": [
    {
     "data": {
      "text/plain": [
       "'/Users/apple/anaconda2/lib/python2.7/site-packages/pocketsphinx/model/chess-phone.lm'"
      ]
     },
     "execution_count": 4,
     "metadata": {},
     "output_type": "execute_result"
    }
   ],
   "source": [
    "path.join(MODELDIR, 'chess-phone.lm')"
   ]
  },
  {
   "cell_type": "code",
   "execution_count": 19,
   "metadata": {
    "collapsed": false
   },
   "outputs": [
    {
     "name": "stdout",
     "output_type": "stream",
     "text": [
      "1\n",
      "2\n",
      "3\n",
      "4\n",
      "5\n",
      "6\n",
      "7\n",
      "8\n",
      "9\n",
      "10\n",
      "11\n",
      "12\n",
      "13\n",
      "14\n",
      "15\n",
      "16\n",
      "17\n",
      "18\n",
      "19\n",
      "20\n",
      "21\n",
      "22\n",
      "23\n",
      "24\n",
      "25\n",
      "26\n",
      "27\n",
      "28\n",
      "29\n",
      "30\n",
      "31\n",
      "32\n",
      "33\n",
      "34\n",
      "35\n",
      "36\n",
      "37\n",
      "38\n",
      "39\n",
      "40\n",
      "41\n",
      "42\n",
      "('Phonemes: ', ['SIL', 'AE', 'AH', 'EY', '+SPN+', 'NG', 'HH'])\n"
     ]
    }
   ],
   "source": [
    "# Create a decoder with certain model\n",
    "config = Decoder.default_config()\n",
    "config.set_string('-hmm', path.join(MODELDIR, 'en-us'))\n",
    "config.set_string('-allphone', path.join(MODELDIR, 'chess-phone.lm.bin'))\n",
    "config.set_float('-lw', 2.0)\n",
    "config.set_float('-beam', 1e-10)\n",
    "config.set_float('-pbeam', 1e-10)\n",
    "\n",
    "# Decode streaming data.\n",
    "decoder = Decoder(config)\n",
    "\n",
    "decoder.start_utt()\n",
    "stream = open(path.join(DATADIR, 'training/f_1.wav'), 'rb')\n",
    "i=0\n",
    "while True:\n",
    "    buf = stream.read(1024)\n",
    "    if buf:\n",
    "        decoder.process_raw(buf, False, False)\n",
    "    else:\n",
    "        break\n",
    "decoder.end_utt()\n",
    "\n",
    "hypothesis = decoder.hyp()\n",
    "print ('Phonemes: ', [seg.word for seg in decoder.seg()])"
   ]
  },
  {
   "cell_type": "code",
   "execution_count": 17,
   "metadata": {
    "collapsed": false
   },
   "outputs": [
    {
     "name": "stdout",
     "output_type": "stream",
     "text": [
      "('Phonemes: ', ['SIL', 'AE', 'AH', 'EY', '+SPN+', 'NG', 'HH'])\n"
     ]
    }
   ],
   "source": [
    "# Create a decoder with certain model\n",
    "config = Decoder.default_config()\n",
    "config.set_string('-hmm', path.join(MODELDIR, 'en-us'))\n",
    "config.set_string('-allphone', path.join(MODELDIR, 'en-us-phone.lm.bin'))\n",
    "config.set_float('-lw', 2.0)\n",
    "config.set_float('-beam', 1e-10)\n",
    "config.set_float('-pbeam', 1e-10)\n",
    "\n",
    "# Decode streaming data.\n",
    "decoder = Decoder(config)\n",
    "\n",
    "decoder.start_utt()\n",
    "stream = open(path.join(DATADIR, 'training/f_1.wav'), 'rb')\n",
    "while True:\n",
    "    buf = stream.read(1024)\n",
    "    if buf:\n",
    "        decoder.process_raw(buf, False, False)\n",
    "    else:\n",
    "        break\n",
    "decoder.end_utt()\n",
    "\n",
    "hypothesis = decoder.hyp()\n",
    "print ('Phonemes: ', [seg.word for seg in decoder.seg()])"
   ]
  },
  {
   "cell_type": "code",
   "execution_count": 10,
   "metadata": {
    "collapsed": false
   },
   "outputs": [
    {
     "data": {
      "text/plain": [
       "'/Users/apple/anaconda2/lib/python2.7/site-packages/pocketsphinx/model/en-us-phone.lm.bin'"
      ]
     },
     "execution_count": 10,
     "metadata": {},
     "output_type": "execute_result"
    }
   ],
   "source": [
    "path.join(MODELDIR, 'en-us-phone.lm.bin')"
   ]
  },
  {
   "cell_type": "code",
   "execution_count": null,
   "metadata": {
    "collapsed": true
   },
   "outputs": [],
   "source": []
  }
 ],
 "metadata": {
  "anaconda-cloud": {},
  "kernelspec": {
   "display_name": "Python [default]",
   "language": "python",
   "name": "python2"
  },
  "language_info": {
   "codemirror_mode": {
    "name": "ipython",
    "version": 2
   },
   "file_extension": ".py",
   "mimetype": "text/x-python",
   "name": "python",
   "nbconvert_exporter": "python",
   "pygments_lexer": "ipython2",
   "version": "2.7.12"
  }
 },
 "nbformat": 4,
 "nbformat_minor": 1
}
